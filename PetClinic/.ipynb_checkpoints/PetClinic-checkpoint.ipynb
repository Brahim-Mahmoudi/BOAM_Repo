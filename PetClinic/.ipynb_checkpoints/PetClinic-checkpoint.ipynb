{
 "cells": [
  {
   "cell_type": "code",
   "execution_count": 1,
   "id": "6a5f7f50",
   "metadata": {},
   "outputs": [
    {
     "name": "stdout",
     "output_type": "stream",
     "text": [
      "PetValidator\n",
      "PetClinicApplication\n",
      "Specialty\n",
      "Person\n",
      "PetClinicIntegrationTests\n",
      "NamedEntity\n",
      "PetClinicRuntimeHints\n",
      "Vets\n",
      "PetTypeFormatter\n",
      "Vet\n",
      "BaseEntity\n",
      "Visit\n",
      "PetType\n",
      "MysqlTestApplication\n",
      "Owner\n",
      "PostgresIntegrationTests\n",
      "Pet\n",
      "NB Classes : 17\n"
     ]
    }
   ],
   "source": [
    "import os\n",
    "import shutil\n",
    "\n",
    "# Function to extract .java files from a folder and its subfolders\n",
    "def extract_java_files(folder_path):\n",
    "    java_files = set()\n",
    "    for root, dirs, files in os.walk(folder_path):\n",
    "        for file in files:\n",
    "            if file.endswith(\".java\"):\n",
    "                java_files.add(os.path.join(root, file))\n",
    "    return java_files\n",
    "\n",
    "# Function to copy a list of source files to a destination folder\n",
    "def copy_files(source_files, destination_folder):\n",
    "    if not os.path.exists(destination_folder):\n",
    "        os.makedirs(destination_folder)\n",
    "    for file in source_files:\n",
    "        shutil.copy(file, destination_folder)\n",
    "\n",
    "# Function to extract class information from .java files\n",
    "def extract_class_info(java_files):\n",
    "    class_info = []\n",
    "    for file in java_files:\n",
    "        with open(file, 'r') as f:\n",
    "            lines = f.readlines()\n",
    "            package = ''\n",
    "            class_name = ''\n",
    "            for line in lines:\n",
    "                if line.startswith('package'):\n",
    "                    package = line.split(' ')[1].strip().replace(';', '')\n",
    "                elif line.startswith('public class'):\n",
    "                    class_name = line.split(' ')[2].strip().split(' ')[0]\n",
    "                    break\n",
    "            if package and class_name:\n",
    "                class_info.append((class_name, package))\n",
    "    return class_info\n",
    "\n",
    "# Exemple d'utilisation\n",
    "source_folder_path = \"spring-petclinic-main\" # Replace with the source folder path containing .java files\n",
    "destination_folder_path = \"classes_petClinic\"  # Replace with the destination folder path\n",
    "output_file_path = \"class_petClinic_info.txt\"  # Output file path\n",
    "\n",
    "java_files = extract_java_files(source_folder_path)\n",
    "copy_files(java_files, destination_folder_path)\n",
    "\n",
    "class_info = extract_class_info(java_files)\n",
    "\n",
    "# Write class names and packages to the output file\n",
    "nbClasses = 0\n",
    "with open(output_file_path, 'w') as output_file:\n",
    "    for class_name, package in class_info:\n",
    "        output_file.write(f\"Class: {class_name}\\n\")\n",
    "        print(class_name)\n",
    "        output_file.write(f\"Package: {package}\\n\")\n",
    "        output_file.write(\"----\\n\")\n",
    "        nbClasses +=1\n",
    "        \n",
    "print (\"NB Classes :\",nbClasses )\n"
   ]
  }
 ],
 "metadata": {
  "kernelspec": {
   "display_name": "Python 3 (ipykernel)",
   "language": "python",
   "name": "python3"
  },
  "language_info": {
   "codemirror_mode": {
    "name": "ipython",
    "version": 3
   },
   "file_extension": ".py",
   "mimetype": "text/x-python",
   "name": "python",
   "nbconvert_exporter": "python",
   "pygments_lexer": "ipython3",
   "version": "3.8.16"
  }
 },
 "nbformat": 4,
 "nbformat_minor": 5
}
